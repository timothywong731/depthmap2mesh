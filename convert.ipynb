{
 "cells": [
  {
   "cell_type": "code",
   "execution_count": 1,
   "metadata": {},
   "outputs": [],
   "source": [
    "import depthmap2stl"
   ]
  },
  {
   "cell_type": "code",
   "execution_count": 3,
   "metadata": {},
   "outputs": [
    {
     "data": {
      "text/plain": [
       "<function depthmap2stl.core.depthmap_to_3d_mesh(depthmap_path, stl_path, width, depth, base_thickness, mesh_resolution=None)>"
      ]
     },
     "execution_count": 3,
     "metadata": {},
     "output_type": "execute_result"
    }
   ],
   "source": [
    "import depthmap2stl.core\n",
    "\n",
    "\n"
   ]
  },
  {
   "cell_type": "code",
   "execution_count": 28,
   "metadata": {},
   "outputs": [],
   "source": [
    "# Path to your depthmap image\n",
    "image_path = r'C:\\Users\\Timothy Wong\\Downloads\\ComfyUI_00042_.png'"
   ]
  },
  {
   "cell_type": "code",
   "execution_count": 32,
   "metadata": {},
   "outputs": [],
   "source": [
    "stl_path = 'output_mesh.stl'\n",
    "width = 163.2           # mm\n",
    "depth = 8             # mm\n",
    "base_thickness = 8   # mm\n",
    "mesh_resolution = None  # Control the number of vertices (width_res, height_res)\n",
    "\n",
    "depthmap2stl.core.depthmap_to_3d_mesh(image_path, stl_path, width, depth, base_thickness, mesh_resolution)"
   ]
  },
  {
   "cell_type": "code",
   "execution_count": null,
   "metadata": {},
   "outputs": [],
   "source": []
  }
 ],
 "metadata": {
  "kernelspec": {
   "display_name": ".venv",
   "language": "python",
   "name": "python3"
  },
  "language_info": {
   "codemirror_mode": {
    "name": "ipython",
    "version": 3
   },
   "file_extension": ".py",
   "mimetype": "text/x-python",
   "name": "python",
   "nbconvert_exporter": "python",
   "pygments_lexer": "ipython3",
   "version": "3.10.14"
  }
 },
 "nbformat": 4,
 "nbformat_minor": 2
}
